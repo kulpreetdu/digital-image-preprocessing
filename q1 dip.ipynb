{
 "cells": [
  {
   "cell_type": "code",
   "execution_count": 64,
   "metadata": {},
   "outputs": [
    {
     "name": "stdout",
     "output_type": "stream",
     "text": [
      "<PIL.JpegImagePlugin.JpegImageFile image mode=RGB size=275x183 at 0x59D5C88>\n",
      "[[210 142  81]\n",
      " [210 142  81]\n",
      " [212 141  79]\n",
      " ...\n",
      " [ 94 140   8]\n",
      " [ 94 140   8]\n",
      " [ 94 140   8]]\n",
      "194\n"
     ]
    }
   ],
   "source": [
    "from PIL import Image\n",
    "import numpy as np\n",
    "#a=int(input(\"enter the nummber to be added in the pixel\"))\n",
    "img=Image.open(\"flowers.jpg\")\n",
    "print(img)\n",
    "#img.show()\n",
    "pix_val=np.array(img.getdata())\n",
    "print(pix_val)\n",
    "#print(len(pix_val[0]))\n",
    "for row in range(len(pix_val)):\n",
    "    #for col in range(len(pix_val[0])):\n",
    "      #  print(str(pix_val[row][col]))\n",
    "    pix_val[row][0]= 100 + pix_val[row][0]\n",
    "    #print(pix_val[row][0])\n",
    "    pix_val[row][1]= 100 + pix_val[row][1]\n",
    "    pix_val[row][2]= 100 + pix_val[row][2]\n",
    "#pix_val[row][col]=np.array[[pix_val[row][0],pix_val[row][1],pix_val[row][2]]]\n",
    "img.save(\"flowers.jpg\")\n",
    "#img=Image.open(\"flowers.jpg\",'r')\n",
    "#pix_val=np.array(img.getdata())\n",
    "print(pix_val[row][0])\n",
    "#print(img)"
   ]
  },
  {
   "cell_type": "code",
   "execution_count": 70,
   "metadata": {},
   "outputs": [],
   "source": [
    "from PIL import Image\n",
    "img=Image.open(\"flowers.jpg\")\n",
    "pixels=img.load()\n",
    "#print(pixels)\n",
    "#print(img.size[0])\n",
    "for i in range(img.size[0]):\n",
    "    for j in range(img.size[1]):\n",
    "        pixels[i,j]=(i,j,100)\n",
    "img.show()"
   ]
  },
  {
   "cell_type": "code",
   "execution_count": null,
   "metadata": {},
   "outputs": [],
   "source": []
  }
 ],
 "metadata": {
  "kernelspec": {
   "display_name": "Python 3",
   "language": "python",
   "name": "python3"
  },
  "language_info": {
   "codemirror_mode": {
    "name": "ipython",
    "version": 3
   },
   "file_extension": ".py",
   "mimetype": "text/x-python",
   "name": "python",
   "nbconvert_exporter": "python",
   "pygments_lexer": "ipython3",
   "version": "3.7.0"
  }
 },
 "nbformat": 4,
 "nbformat_minor": 2
}
